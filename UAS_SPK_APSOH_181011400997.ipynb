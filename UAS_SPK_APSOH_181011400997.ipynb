{
 "cells": [
  {
   "cell_type": "code",
   "execution_count": null,
   "id": "6d067d38-4e01-4091-b284-2204e0d471b3",
   "metadata": {},
   "outputs": [
    {
     "name": "stdin",
     "output_type": "stream",
     "text": [
      "User\t:  hai chatbot\n"
     ]
    },
    {
     "name": "stdout",
     "output_type": "stream",
     "text": [
      "Bot\t: apa kabar\n"
     ]
    },
    {
     "name": "stdin",
     "output_type": "stream",
     "text": [
      "User\t:  halo chatbot\n"
     ]
    },
    {
     "name": "stdout",
     "output_type": "stream",
     "text": [
      "Bot\t: halo juga\n"
     ]
    },
    {
     "name": "stdin",
     "output_type": "stream",
     "text": [
      "User\t:  halo chatbot\n"
     ]
    },
    {
     "name": "stdout",
     "output_type": "stream",
     "text": [
      "Bot\t: halo juga\n"
     ]
    },
    {
     "name": "stdin",
     "output_type": "stream",
     "text": [
      "User\t:  haii\n"
     ]
    },
    {
     "name": "stdout",
     "output_type": "stream",
     "text": [
      "Bot\t: apa kabar\n"
     ]
    },
    {
     "name": "stdin",
     "output_type": "stream",
     "text": [
      "User\t:  hallo\n"
     ]
    },
    {
     "name": "stdout",
     "output_type": "stream",
     "text": [
      "Bot\t:aku tidak paham\n"
     ]
    }
   ],
   "source": [
    "import re\n",
    "import random\n",
    "\n",
    "sapaan = [\"hai juga\", \"halo juga\", \"apa kabar\"]\n",
    "\n",
    "while True:\n",
    "    x = input(\"User\\t: \")\n",
    "    if re.findall(r'halo|hai', x):\n",
    "        print(\"Bot\\t:\", random.choice(sapaan))\n",
    "    else:\n",
    "        print(\"Bot\\t:aku tidak paham\")"
   ]
  },
  {
   "cell_type": "code",
   "execution_count": null,
   "id": "a268437f-9e8f-48a9-b33a-847d953ee77a",
   "metadata": {},
   "outputs": [],
   "source": []
  }
 ],
 "metadata": {
  "kernelspec": {
   "display_name": "Python 3",
   "language": "python",
   "name": "python3"
  },
  "language_info": {
   "codemirror_mode": {
    "name": "ipython",
    "version": 3
   },
   "file_extension": ".py",
   "mimetype": "text/x-python",
   "name": "python",
   "nbconvert_exporter": "python",
   "pygments_lexer": "ipython3",
   "version": "3.8.8"
  }
 },
 "nbformat": 4,
 "nbformat_minor": 5
}
